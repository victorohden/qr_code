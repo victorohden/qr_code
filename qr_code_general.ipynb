{
 "cells": [
  {
   "cell_type": "code",
   "execution_count": null,
   "metadata": {},
   "outputs": [],
   "source": [
    "\"\"\"\n",
    "Author: Victor Hugo Rohden Prudente\n",
    "Date: April-14/2024\n",
    "\n",
    "\"\"\""
   ]
  },
  {
   "cell_type": "code",
   "execution_count": 1,
   "metadata": {},
   "outputs": [],
   "source": [
    "# import libraries/packages\n",
    "import os\n",
    "import qrcode\n",
    "from PIL import Image, ImageDraw, ImageFont\n",
    "\n",
    "#pip install qrcode\n",
    "#pip install PIL"
   ]
  },
  {
   "cell_type": "code",
   "execution_count": 2,
   "metadata": {},
   "outputs": [],
   "source": [
    "#Saving the qr-code\n",
    "path_save = r\"./output\"\n",
    "\n",
    "#If folder does not exist, make it. If exist, do nothing.\n",
    "os.makedirs(path_save, exist_ok=True)"
   ]
  },
  {
   "cell_type": "markdown",
   "metadata": {},
   "source": [
    "## QR code:\n",
    "- Texts \n",
    "- Websites"
   ]
  },
  {
   "cell_type": "code",
   "execution_count": 3,
   "metadata": {},
   "outputs": [],
   "source": [
    "# Data to be encoded. This could be a simple text or website. Wherever you want to create\n",
    "data = 'Your Text or Website here'\n"
   ]
  },
  {
   "cell_type": "code",
   "execution_count": 4,
   "metadata": {},
   "outputs": [],
   "source": [
    "# Generate QR code\n",
    "qr = qrcode.QRCode(version=3, error_correction=qrcode.constants.ERROR_CORRECT_L, box_size=10, border=4)\n",
    "qr.add_data(data)\n",
    "qr.make(fit=True)\n",
    "\n",
    "# Convert QR code to PIL image\n",
    "img = qr.make_image(fill_color=\"red\", back_color=\"white\")\n",
    "\n",
    "# Converting the image to RGB mode\n",
    "img = img.convert('RGB')\n",
    "\n",
    "# Creating a drawing object\n",
    "draw = ImageDraw.Draw(img)\n",
    "\n",
    "# Font style and size\n",
    "font = ImageFont.truetype(\"arial.ttf\", 30)\n",
    "\n",
    "# Position to add the text (centered horizontally, top)\n",
    "text_position = (50, 5)\n",
    "\n",
    "# Adding the text to the image\n",
    "draw.text(text_position,  f\"your text here\", fill=\"black\", font=font)\n",
    "#show the image\n",
    "img.show()"
   ]
  },
  {
   "cell_type": "code",
   "execution_count": null,
   "metadata": {},
   "outputs": [],
   "source": [
    "#saving the image\n",
    "img.save(os.path.join(path_save, f\"general_qr_code.png\"))"
   ]
  }
 ],
 "metadata": {
  "kernelspec": {
   "display_name": "env36",
   "language": "python",
   "name": "python3"
  },
  "language_info": {
   "codemirror_mode": {
    "name": "ipython",
    "version": 3
   },
   "file_extension": ".py",
   "mimetype": "text/x-python",
   "name": "python",
   "nbconvert_exporter": "python",
   "pygments_lexer": "ipython3",
   "version": "3.11.4"
  }
 },
 "nbformat": 4,
 "nbformat_minor": 2
}
