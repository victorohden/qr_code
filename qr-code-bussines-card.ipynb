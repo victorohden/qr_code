{
 "cells": [
  {
   "cell_type": "code",
   "execution_count": null,
   "metadata": {},
   "outputs": [],
   "source": [
    "\"\"\"\n",
    "Author: Victor Hugo Rohden Prudente\n",
    "Date: April-14/2024\n",
    "\n",
    "\"\"\""
   ]
  },
  {
   "cell_type": "code",
   "execution_count": null,
   "metadata": {},
   "outputs": [],
   "source": [
    "# import libraries/packages\n",
    "import os\n",
    "import qrcode\n",
    "from PIL import Image, ImageDraw, ImageFont\n",
    "\n",
    "#pip install qrcode\n",
    "#pip install PIL"
   ]
  },
  {
   "cell_type": "code",
   "execution_count": null,
   "metadata": {},
   "outputs": [],
   "source": [
    "#define a path to save the data\n",
    "path_save = r\"./output\"\n",
    "\n",
    "#If folder does not exist, make it. If exist, do nothing.\n",
    "os.makedirs(path_save, exist_ok=True)\n"
   ]
  },
  {
   "cell_type": "markdown",
   "metadata": {},
   "source": [
    "## QR code:\n",
    "- Bussines card"
   ]
  },
  {
   "cell_type": "code",
   "execution_count": null,
   "metadata": {},
   "outputs": [],
   "source": [
    "# Define the contact information for the vCard\n",
    "first_name = \"Your Name\"\n",
    "last_name = \"Your Surname\"\n",
    "email = \"your@email.com\"\n",
    "email2 = \"your@email2.com\"\n",
    "phone_number = \"+1(111)111-1111\"\n",
    "url = \"https://twitter.com/yourusername\""
   ]
  },
  {
   "cell_type": "code",
   "execution_count": null,
   "metadata": {},
   "outputs": [],
   "source": [
    "# Create the vCard string\n",
    "\n",
    "vcard = f\"BEGIN:VCARD\\nVERSION:3.0\\nN:{last_name};{first_name};;;\\nFN:{first_name}\\nEMAIL;TYPE=INTERNET:{email}\\nEMAIL;TYPE=INTERNET:{email2}\\nTEL;TYPE=CELL:{phone_number}\\nURL;TYPE=X:{url}\\nEND:VCARD\"\n",
    "\n",
    "# Generate the QR code\n",
    "img = qrcode.make(vcard)\n",
    "\n",
    "# Converting the image to RGB mode\n",
    "img = img.convert('RGB')\n",
    "\n",
    "# Creating a drawing object\n",
    "draw = ImageDraw.Draw(img)\n",
    "\n",
    "# Text to be added\n",
    "# text = \"Project website\"\n",
    "\n",
    "# Font style and size\n",
    "font = ImageFont.truetype(\"arial.ttf\", 30)\n",
    "\n",
    "# Position to add the text (centered horizontally, top)\n",
    "text_position = (50, 5)\n",
    "\n",
    "# Adding the text to the image\n",
    "draw.text(text_position,  f\"{first_name}_{last_name}\", fill=\"black\", font=font)\n",
    "\n",
    "#showing the qrcode\n",
    "img.show()"
   ]
  },
  {
   "cell_type": "code",
   "execution_count": null,
   "metadata": {},
   "outputs": [],
   "source": [
    "#save the qrcode as image\n",
    "img.save(os.path.join(path_save, f\"vcard_{first_name}.png\"))"
   ]
  }
 ],
 "metadata": {
  "kernelspec": {
   "display_name": ".venv",
   "language": "python",
   "name": "python3"
  },
  "language_info": {
   "codemirror_mode": {
    "name": "ipython",
    "version": 3
   },
   "file_extension": ".py",
   "mimetype": "text/x-python",
   "name": "python",
   "nbconvert_exporter": "python",
   "pygments_lexer": "ipython3",
   "version": "3.11.4"
  }
 },
 "nbformat": 4,
 "nbformat_minor": 2
}
