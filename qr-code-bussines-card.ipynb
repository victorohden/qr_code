{
 "cells": [
  {
   "cell_type": "code",
   "execution_count": null,
   "metadata": {},
   "outputs": [],
   "source": [
    "#pip install qrcode"
   ]
  },
  {
   "cell_type": "code",
   "execution_count": 1,
   "metadata": {},
   "outputs": [],
   "source": [
    "import os\n",
    "import qrcode\n",
    "from PIL import Image, ImageDraw, ImageFont\n"
   ]
  },
  {
   "cell_type": "code",
   "execution_count": 2,
   "metadata": {},
   "outputs": [],
   "source": [
    "path_save = r\"./output\"\n",
    "\n",
    "#If folder does not exist, make it. If exist, do nothing.\n",
    "os.makedirs(path_save, exist_ok=True)\n"
   ]
  },
  {
   "cell_type": "code",
   "execution_count": 3,
   "metadata": {},
   "outputs": [],
   "source": [
    "# Define the contact information for the vCard\n",
    "first_name = \"Your Name\"\n",
    "last_name = \"Your Surname\"\n",
    "email = \"your@email.com\"\n",
    "email2 = \"your@email2.com\"\n",
    "phone_number = \"+1(111)111-1111\"\n",
    "url = \"https://twitter.com/yourusername\""
   ]
  },
  {
   "cell_type": "code",
   "execution_count": 4,
   "metadata": {},
   "outputs": [],
   "source": [
    "# Create the vCard string\n",
    "\n",
    "vcard = f\"BEGIN:VCARD\\nVERSION:3.0\\nN:{last_name};{first_name};;;\\nFN:{first_name}\\nEMAIL;TYPE=INTERNET:{email}\\nEMAIL;TYPE=INTERNET:{email2}\\nTEL;TYPE=CELL:{phone_number}\\nURL;TYPE=X:{url}\\nEND:VCARD\"\n",
    "\n",
    "# Generate the QR code\n",
    "img = qrcode.make(vcard)\n",
    "\n",
    "# Converting the image to RGB mode\n",
    "img = img.convert('RGB')\n",
    "\n",
    "# Creating a drawing object\n",
    "draw = ImageDraw.Draw(img)\n",
    "\n",
    "# Text to be added\n",
    "# text = \"Project website\"\n",
    "\n",
    "# Font style and size\n",
    "font = ImageFont.truetype(\"arial.ttf\", 30)\n",
    "\n",
    "# Position to add the text (centered horizontally, top)\n",
    "text_position = (50, 5)\n",
    "\n",
    "# Adding the text to the image\n",
    "draw.text(text_position,  f\"{first_name}_{last_name}\", fill=\"black\", font=font)\n",
    "\n"
   ]
  },
  {
   "cell_type": "code",
   "execution_count": 5,
   "metadata": {},
   "outputs": [],
   "source": [
    "img.save(os.path.join(path_save, f\"vcard_{first_name}.png\"))"
   ]
  },
  {
   "cell_type": "code",
   "execution_count": null,
   "metadata": {},
   "outputs": [],
   "source": []
  }
 ],
 "metadata": {
  "kernelspec": {
   "display_name": ".venv",
   "language": "python",
   "name": "python3"
  },
  "language_info": {
   "codemirror_mode": {
    "name": "ipython",
    "version": 3
   },
   "file_extension": ".py",
   "mimetype": "text/x-python",
   "name": "python",
   "nbconvert_exporter": "python",
   "pygments_lexer": "ipython3",
   "version": "3.11.4"
  }
 },
 "nbformat": 4,
 "nbformat_minor": 2
}
